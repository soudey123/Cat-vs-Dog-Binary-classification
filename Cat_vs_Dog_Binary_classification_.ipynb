{
  "nbformat": 4,
  "nbformat_minor": 0,
  "metadata": {
    "colab": {
      "name": "Cat vs Dog Binary classification .ipynb",
      "provenance": [],
      "authorship_tag": "ABX9TyMe+yLLH5NfjT7tRyoZYQ0u",
      "include_colab_link": true
    },
    "kernelspec": {
      "name": "python3",
      "display_name": "Python 3"
    }
  },
  "cells": [
    {
      "cell_type": "markdown",
      "metadata": {
        "id": "view-in-github",
        "colab_type": "text"
      },
      "source": [
        "<a href=\"https://colab.research.google.com/github/soudey123/Cat-vs-Dog-Binary-classification/blob/master/Cat_vs_Dog_Binary_classification_.ipynb\" target=\"_parent\"><img src=\"https://colab.research.google.com/assets/colab-badge.svg\" alt=\"Open In Colab\"/></a>"
      ]
    },
    {
      "cell_type": "code",
      "metadata": {
        "id": "6igk81hxbw_o",
        "colab_type": "code",
        "colab": {}
      },
      "source": [
        "# This project demonstrtates the classfication on Cat vs Dog dataset using CNN(Convolutional Neural Network)\n",
        "# We will use the dataset from https://storage.googleapis.com/mledu-datasets/cats_and_dogs_filtered.zip for this work\n",
        "# Dataset has been derived into training and validation pieces already . Hence we nedd to keep those datasets in two separete folders.\n",
        "\n",
        "import os\n",
        "import zipfile\n",
        "import tensorflow as tf\n",
        "from tensorflow.keras.optimizers import RMSprop\n",
        "from tensorflow.keras.preprocessing.image import ImageDataGenerator\n",
        "\n",
        "local_zip = '/tmp/cats_and_dogs_filtered.zip'\n",
        "zip_ref = zipfile.ZipFile(local_zip, 'r')\n",
        "zip_ref.extractall('/content/sample_data')\n",
        "zip_ref.close()\n"
      ],
      "execution_count": 0,
      "outputs": []
    },
    {
      "cell_type": "code",
      "metadata": {
        "id": "gVqMAcg-egRB",
        "colab_type": "code",
        "colab": {}
      },
      "source": [
        "#Create separate train and validation directory as the structure has been followed in the original dataset.\n",
        "\n",
        "base_dir = '/content/sample_data/cats_and_dogs_filtered'\n",
        "train_dir = os.path.join(base_dir, 'train')\n",
        "validation_dir = os.path.join(base_dir, 'validation')\n",
        "\n",
        "# Directory with our training cat pictures\n",
        "train_cats_dir = os.path.join(train_dir, 'cats')\n",
        "\n",
        "# Directory with our training dog pictures\n",
        "train_dogs_dir = os.path.join(train_dir, 'dogs')\n",
        "\n",
        "# Directory with our validation cat pictures\n",
        "validation_cats_dir = os.path.join(validation_dir, 'cats')\n",
        "\n",
        "# Directory with our validation dog pictures\n",
        "validation_dogs_dir = os.path.join(validation_dir, 'dogs')\n",
        "\n"
      ],
      "execution_count": 0,
      "outputs": []
    },
    {
      "cell_type": "markdown",
      "metadata": {
        "id": "zx2N9bIpf3sA",
        "colab_type": "text"
      },
      "source": [
        "All the pixel values range between 0 to 255, so to normalize the images I have used ImageDataGenerator class which will genrate batches of normalized input images based out of the train and validation directory. Target size of the image selected as (150,150) but it can be rescaled later. Since this project only deals with only two class (Cat and Dog) of images so the class_mode selected as 'binary' for generating the flow of training and validation images.  \n",
        "\n",
        "\n",
        "\n"
      ]
    },
    {
      "cell_type": "code",
      "metadata": {
        "id": "1MzWC92ffH7r",
        "colab_type": "code",
        "colab": {
          "base_uri": "https://localhost:8080/",
          "height": 51
        },
        "outputId": "42721527-738f-4fdc-fbd9-376cb38735f2"
      },
      "source": [
        "# All images will be rescaled by 1./255\n",
        "train_datagen = ImageDataGenerator(rescale=1./255)\n",
        "test_datagen = ImageDataGenerator(rescale=1./255)\n",
        "\n",
        "# Flow training images in batches of 20 using train_datagen generator\n",
        "train_generator = train_datagen.flow_from_directory(\n",
        "        train_dir,  # This is the source directory for training images\n",
        "        target_size=(150, 150),  # All images will be resized to 150x150\n",
        "        batch_size=20,\n",
        "        # Since we use binary_crossentropy loss, we need binary labels\n",
        "        class_mode='binary')\n",
        "\n",
        "# Flow validation images in batches of 20 using test_datagen generator\n",
        "validation_generator = test_datagen.flow_from_directory(\n",
        "        validation_dir,\n",
        "        target_size=(150, 150),\n",
        "        batch_size=20,\n",
        "        class_mode='binary')"
      ],
      "execution_count": 10,
      "outputs": [
        {
          "output_type": "stream",
          "text": [
            "Found 2000 images belonging to 2 classes.\n",
            "Found 1000 images belonging to 2 classes.\n"
          ],
          "name": "stdout"
        }
      ]
    },
    {
      "cell_type": "markdown",
      "metadata": {
        "id": "CZrvIZBbhUQ1",
        "colab_type": "text"
      },
      "source": [
        "Now, it's time to build the model for classification. I have used Keras module of Tensorflow framework to obtain most common model for this work. In Keras, you assemble layers to build models. A model is (usually) a graph of layers. The most common type of model is a stack of layers: the tf.keras.Sequential model. Brief overview of the model components :\n",
        "\n",
        "**Conv2D:** is a 2D Convolution Layer, this layer creates a convolution kernel that is wind with layers input which helps produce a tensor of outputs.\n",
        "\n",
        "**Sequential:** That defines a SEQUENCE of layers in the neural network\n",
        "\n",
        "**Flatten:** Change the multi-dimesional input to one dimension for better model processing\n",
        "\n",
        "**maxpooling2d:** Sample based discretization process to down-sample an input representation(input image, hidden layers, matrix etc.) in order to simplify the processing.\n",
        "\n",
        "**Dense:** Add layers of neurons and each neuron comes with activation functions such as Relu or Sigmoid. Relu is more computionally efficient because the gradient value is either 0 or 1 as opposed to sigmoid which keep fractions of 0 to 1 as gradient value. Relu seems to be converges faster than sigmoid function.\n",
        "\n",
        "**softmax:** It take the maxium value coming our of output layer which saves a lot of coding work.\n",
        "\n"
      ]
    },
    {
      "cell_type": "code",
      "metadata": {
        "id": "gGT1wucmm8Kw",
        "colab_type": "code",
        "colab": {}
      },
      "source": [
        "model = tf.keras.models.Sequential([\n",
        "    tf.keras.layers.Conv2D(32, (3,3), activation='relu', input_shape=(150, 150, 3)),\n",
        "    tf.keras.layers.MaxPooling2D(2, 2),\n",
        "    tf.keras.layers.Conv2D(64, (3,3), activation='relu'),\n",
        "    tf.keras.layers.MaxPooling2D(2,2),\n",
        "    tf.keras.layers.Conv2D(128, (3,3), activation='relu'),\n",
        "    tf.keras.layers.MaxPooling2D(2,2),\n",
        "    tf.keras.layers.Conv2D(128, (3,3), activation='relu'),\n",
        "    tf.keras.layers.MaxPooling2D(2,2),\n",
        "    tf.keras.layers.Flatten(),\n",
        "    tf.keras.layers.Dense(512, activation='relu'),\n",
        "    tf.keras.layers.Dense(1, activation='sigmoid')\n",
        "])"
      ],
      "execution_count": 0,
      "outputs": []
    },
    {
      "cell_type": "markdown",
      "metadata": {
        "id": "fS03sAcnnJN-",
        "colab_type": "text"
      },
      "source": [
        "The next thing to do, now the model is defined, is to actually build it. In order to do that, I compile it with an optimizer and loss function as before. Based on the method of classification binary loss function has been selected for compliation purpose. "
      ]
    },
    {
      "cell_type": "code",
      "metadata": {
        "id": "J_6FvLW7niuk",
        "colab_type": "code",
        "colab": {}
      },
      "source": [
        "model.compile(loss='binary_crossentropy',\n",
        "              optimizer=RMSprop(lr=1e-4),\n",
        "              metrics=['accuracy'])"
      ],
      "execution_count": 0,
      "outputs": []
    },
    {
      "cell_type": "markdown",
      "metadata": {
        "id": "THE383ZrHjij",
        "colab_type": "text"
      },
      "source": [
        "Implement callback function which will terminate model train program once train accuracy reaches ceratin limit."
      ]
    },
    {
      "cell_type": "code",
      "metadata": {
        "id": "o1tHnr06HiVy",
        "colab_type": "code",
        "colab": {}
      },
      "source": [
        "class myCallback(tf.keras.callbacks.Callback):\n",
        "  def on_epoch_end(self, epoch, logs={}):\n",
        "    if(logs.get('accuracy')>0.9970):\n",
        "      print(\"\\nReached 99% accuracy so cancelling training!\")\n",
        "      self.model.stop_training = True"
      ],
      "execution_count": 0,
      "outputs": []
    },
    {
      "cell_type": "markdown",
      "metadata": {
        "id": "T4aL9QdbomC7",
        "colab_type": "text"
      },
      "source": [
        "Next step is to train the model using model.fit() function. To train the model I need to selected a very important parameter called epochs which is nothing but the count of one forward and backward propagation of the training samples. Based on the number of batch sizes I selected during image generation phase I have to derive number of training examples will be processes during each epoch."
      ]
    },
    {
      "cell_type": "code",
      "metadata": {
        "id": "Ts3ZLbPgpP7S",
        "colab_type": "code",
        "colab": {
          "base_uri": "https://localhost:8080/",
          "height": 1000
        },
        "outputId": "e4886a59-123b-4740-a84e-a524d4bbd3b8"
      },
      "source": [
        "callbacks = myCallback()\n",
        "history = model.fit(\n",
        "      train_generator,\n",
        "      steps_per_epoch=100,  # 2000 images = batch_size * steps\n",
        "      epochs=50,\n",
        "      validation_data=validation_generator,\n",
        "      validation_steps=50,  # 1000 images = batch_size * steps\n",
        "      verbose=2,\n",
        "      callbacks=[callbacks])"
      ],
      "execution_count": 14,
      "outputs": [
        {
          "output_type": "stream",
          "text": [
            "Epoch 1/50\n",
            "100/100 - 102s - loss: 0.6911 - accuracy: 0.5280 - val_loss: 0.6750 - val_accuracy: 0.5830\n",
            "Epoch 2/50\n",
            "100/100 - 102s - loss: 0.6613 - accuracy: 0.6025 - val_loss: 0.6482 - val_accuracy: 0.6510\n",
            "Epoch 3/50\n",
            "100/100 - 102s - loss: 0.6281 - accuracy: 0.6505 - val_loss: 0.6160 - val_accuracy: 0.6660\n",
            "Epoch 4/50\n",
            "100/100 - 102s - loss: 0.5784 - accuracy: 0.7110 - val_loss: 0.5832 - val_accuracy: 0.7120\n",
            "Epoch 5/50\n",
            "100/100 - 102s - loss: 0.5368 - accuracy: 0.7305 - val_loss: 0.5730 - val_accuracy: 0.6900\n",
            "Epoch 6/50\n",
            "100/100 - 102s - loss: 0.5135 - accuracy: 0.7450 - val_loss: 0.5574 - val_accuracy: 0.7210\n",
            "Epoch 7/50\n",
            "100/100 - 102s - loss: 0.4897 - accuracy: 0.7665 - val_loss: 0.5635 - val_accuracy: 0.7110\n",
            "Epoch 8/50\n",
            "100/100 - 102s - loss: 0.4526 - accuracy: 0.7890 - val_loss: 0.7845 - val_accuracy: 0.6000\n",
            "Epoch 9/50\n",
            "100/100 - 102s - loss: 0.4339 - accuracy: 0.7960 - val_loss: 0.5913 - val_accuracy: 0.7000\n",
            "Epoch 10/50\n",
            "100/100 - 102s - loss: 0.4094 - accuracy: 0.8135 - val_loss: 0.5704 - val_accuracy: 0.7180\n",
            "Epoch 11/50\n",
            "100/100 - 102s - loss: 0.3831 - accuracy: 0.8360 - val_loss: 0.5775 - val_accuracy: 0.7220\n",
            "Epoch 12/50\n",
            "100/100 - 102s - loss: 0.3619 - accuracy: 0.8375 - val_loss: 0.5583 - val_accuracy: 0.7230\n",
            "Epoch 13/50\n",
            "100/100 - 102s - loss: 0.3351 - accuracy: 0.8530 - val_loss: 0.5293 - val_accuracy: 0.7570\n",
            "Epoch 14/50\n",
            "100/100 - 102s - loss: 0.3215 - accuracy: 0.8650 - val_loss: 0.5297 - val_accuracy: 0.7470\n",
            "Epoch 15/50\n",
            "100/100 - 102s - loss: 0.2853 - accuracy: 0.8865 - val_loss: 0.5545 - val_accuracy: 0.7470\n",
            "Epoch 16/50\n",
            "100/100 - 102s - loss: 0.2659 - accuracy: 0.8995 - val_loss: 0.6085 - val_accuracy: 0.7310\n",
            "Epoch 17/50\n",
            "100/100 - 102s - loss: 0.2438 - accuracy: 0.9040 - val_loss: 0.5599 - val_accuracy: 0.7380\n",
            "Epoch 18/50\n",
            "100/100 - 103s - loss: 0.2175 - accuracy: 0.9160 - val_loss: 0.5517 - val_accuracy: 0.7660\n",
            "Epoch 19/50\n",
            "100/100 - 102s - loss: 0.1953 - accuracy: 0.9300 - val_loss: 0.6193 - val_accuracy: 0.7430\n",
            "Epoch 20/50\n",
            "100/100 - 102s - loss: 0.1785 - accuracy: 0.9390 - val_loss: 0.6456 - val_accuracy: 0.7400\n",
            "Epoch 21/50\n",
            "100/100 - 103s - loss: 0.1615 - accuracy: 0.9415 - val_loss: 0.6583 - val_accuracy: 0.7360\n",
            "Epoch 22/50\n",
            "100/100 - 103s - loss: 0.1411 - accuracy: 0.9525 - val_loss: 0.6555 - val_accuracy: 0.7420\n",
            "Epoch 23/50\n",
            "100/100 - 103s - loss: 0.1223 - accuracy: 0.9590 - val_loss: 0.7610 - val_accuracy: 0.7430\n",
            "Epoch 24/50\n",
            "100/100 - 103s - loss: 0.1045 - accuracy: 0.9660 - val_loss: 0.7263 - val_accuracy: 0.7440\n",
            "Epoch 25/50\n",
            "100/100 - 103s - loss: 0.0868 - accuracy: 0.9765 - val_loss: 0.8568 - val_accuracy: 0.7390\n",
            "Epoch 26/50\n",
            "100/100 - 103s - loss: 0.0841 - accuracy: 0.9730 - val_loss: 0.8110 - val_accuracy: 0.7210\n",
            "Epoch 27/50\n",
            "100/100 - 103s - loss: 0.0659 - accuracy: 0.9840 - val_loss: 0.9754 - val_accuracy: 0.7190\n",
            "Epoch 28/50\n",
            "100/100 - 103s - loss: 0.0602 - accuracy: 0.9835 - val_loss: 0.7652 - val_accuracy: 0.7410\n",
            "Epoch 29/50\n",
            "100/100 - 103s - loss: 0.0389 - accuracy: 0.9915 - val_loss: 0.8883 - val_accuracy: 0.7470\n",
            "Epoch 30/50\n",
            "100/100 - 103s - loss: 0.0386 - accuracy: 0.9925 - val_loss: 1.0044 - val_accuracy: 0.7240\n",
            "Epoch 31/50\n",
            "100/100 - 108s - loss: 0.0376 - accuracy: 0.9880 - val_loss: 0.9653 - val_accuracy: 0.7370\n",
            "Epoch 32/50\n",
            "100/100 - 103s - loss: 0.0396 - accuracy: 0.9885 - val_loss: 0.8992 - val_accuracy: 0.7590\n",
            "Epoch 33/50\n",
            "100/100 - 104s - loss: 0.0284 - accuracy: 0.9940 - val_loss: 1.3811 - val_accuracy: 0.7030\n",
            "Epoch 34/50\n",
            "100/100 - 103s - loss: 0.0264 - accuracy: 0.9920 - val_loss: 1.1191 - val_accuracy: 0.7540\n",
            "Epoch 35/50\n",
            "100/100 - 104s - loss: 0.0278 - accuracy: 0.9915 - val_loss: 1.2745 - val_accuracy: 0.7300\n",
            "Epoch 36/50\n",
            "\n",
            "Reached 99% accuracy so cancelling training!\n",
            "100/100 - 104s - loss: 0.0160 - accuracy: 0.9975 - val_loss: 1.2344 - val_accuracy: 0.7260\n"
          ],
          "name": "stdout"
        }
      ]
    },
    {
      "cell_type": "markdown",
      "metadata": {
        "id": "pgi-WTD_dkv-",
        "colab_type": "text"
      },
      "source": [
        "Validating the accuracy of training and validation"
      ]
    },
    {
      "cell_type": "code",
      "metadata": {
        "id": "QFaz7uiGdZvE",
        "colab_type": "code",
        "colab": {
          "base_uri": "https://localhost:8080/",
          "height": 545
        },
        "outputId": "57794544-8b2d-4bc4-d61d-bbdf469e596e"
      },
      "source": [
        "import matplotlib.pyplot as plt\n",
        "acc = history.history['accuracy']\n",
        "val_acc = history.history['val_accuracy']\n",
        "loss = history.history['loss']\n",
        "val_loss = history.history['val_loss']\n",
        "\n",
        "epochs = range(len(acc))\n",
        "\n",
        "plt.plot(epochs, acc, 'bo', label='Training accuracy')\n",
        "plt.plot(epochs, val_acc, 'b', label='Validation accuracy')\n",
        "plt.title('Training and validation accuracy')\n",
        "\n",
        "plt.figure()\n",
        "\n",
        "plt.plot(epochs, loss, 'bo', label='Training Loss')\n",
        "plt.plot(epochs, val_loss, 'b', label='Validation Loss')\n",
        "plt.title('Training and validation loss')\n",
        "plt.legend()\n",
        "\n",
        "plt.show()"
      ],
      "execution_count": 15,
      "outputs": [
        {
          "output_type": "display_data",
          "data": {
            "image/png": "[encoded data removed]",
            "text/plain": [
              "<Figure size 432x288 with 1 Axes>"
            ]
          },
          "metadata": {
            "tags": [],
            "needs_background": "light"
          }
        },
        {
          "output_type": "display_data",
          "data": {
            "image/png": "[encoded data removed]",
            "text/plain": [
              "<Figure size 432x288 with 1 Axes>"
            ]
          },
          "metadata": {
            "tags": [],
            "needs_background": "light"
          }
        }
      ]
    },
    {
      "cell_type": "markdown",
      "metadata": {
        "id": "Cqakm00vo5Al",
        "colab_type": "text"
      },
      "source": [
        "The Training Accuracy is close to 100%, and the validation accuracy is in the 70%-80% range. This is a great example of overfitting which can be avoided using image augmentation technique. "
      ]
    },
    {
      "cell_type": "code",
      "metadata": {
        "id": "bg-jgnP8YL1L",
        "colab_type": "code",
        "colab": {
          "resources": {
            "http://localhost:8080/nbextensions/google.colab/files.js": {
              "data": "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",
              "ok": true,
              "headers": [
                [
                  "content-type",
                  "application/javascript"
                ]
              ],
              "status": 200,
              "status_text": ""
            }
          },
          "base_uri": "https://localhost:8080/",
          "height": 717
        },
        "outputId": "8a741e75-71c0-4914-a264-a388d5e1d287"
      },
      "source": [
        "# Here's a codeblock just for fun. You should be able to upload an image here \n",
        "# and have it classified without crashing\n",
        "\n",
        "import numpy as np\n",
        "from google.colab import files\n",
        "from keras.preprocessing import image\n",
        "\n",
        "uploaded = files.upload()\n",
        "\n",
        "for fn in uploaded.keys():\n",
        " \n",
        "  # predicting images\n",
        "  path = '/content/' + fn\n",
        "  img = image.load_img(path, target_size=(150,150))\n",
        "  x = image.img_to_array(img)\n",
        "  x = np.expand_dims(x, axis=0)\n",
        "\n",
        "  images = np.vstack([x])\n",
        "  classes = model.predict(images, batch_size=10)\n",
        "  print(classes[0])\n",
        "  if classes[0]>0.5:\n",
        "    print(fn + \" is a dog\")\n",
        "  else:\n",
        "    print(fn + \" is a cat\")"
      ],
      "execution_count": 20,
      "outputs": [
        {
          "output_type": "display_data",
          "data": {
            "text/html": [
              "\n",
              "     <input type=\"file\" id=\"files-447af471-e715-460e-9120-18ec23ca5db8\" name=\"files[]\" multiple disabled />\n",
              "     <output id=\"result-447af471-e715-460e-9120-18ec23ca5db8\">\n",
              "      Upload widget is only available when the cell has been executed in the\n",
              "      current browser session. Please rerun this cell to enable.\n",
              "      </output>\n",
              "      <script src=\"/nbextensions/google.colab/files.js\"></script> "
            ],
            "text/plain": [
              "<IPython.core.display.HTML object>"
            ]
          },
          "metadata": {
            "tags": []
          }
        },
        {
          "output_type": "stream",
          "text": [
            "Saving cat.2002.jpg to cat.2002 (1).jpg\n",
            "Saving cat.2003.jpg to cat.2003 (1).jpg\n",
            "Saving cat.2004.jpg to cat.2004 (1).jpg\n",
            "Saving cat.2005.jpg to cat.2005 (1).jpg\n",
            "Saving cat.2007.jpg to cat.2007 (1).jpg\n",
            "Saving dog.2000.jpg to dog.2000 (1).jpg\n",
            "Saving dog.2001.jpg to dog.2001 (1).jpg\n",
            "Saving dog.2002.jpg to dog.2002 (1).jpg\n",
            "Saving dog.2003.jpg to dog.2003 (1).jpg\n",
            "Saving dog.2004.jpg to dog.2004 (2).jpg\n",
            "[0.]\n",
            "cat.2002.jpg is a cat\n",
            "[0.]\n",
            "cat.2003.jpg is a cat\n",
            "[0.]\n",
            "cat.2004.jpg is a cat\n",
            "[0.]\n",
            "cat.2005.jpg is a cat\n",
            "[0.]\n",
            "cat.2007.jpg is a cat\n",
            "[1.]\n",
            "dog.2000.jpg is a dog\n",
            "[1.]\n",
            "dog.2001.jpg is a dog\n",
            "[1.]\n",
            "dog.2002.jpg is a dog\n",
            "[1.]\n",
            "dog.2003.jpg is a dog\n",
            "[1.]\n",
            "dog.2004.jpg is a dog\n"
          ],
          "name": "stdout"
        }
      ]
    }
  ]
}